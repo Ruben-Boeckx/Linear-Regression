{
 "cells": [
  {
   "cell_type": "code",
   "execution_count": 10,
   "id": "21bbd769-b933-44ce-8e4a-c5970d68c9ce",
   "metadata": {},
   "outputs": [],
   "source": [
    "import pandas as pd\n",
    "from itertools import combinations\n",
    "import numpy as np\n",
    "import matplotlib.pyplot as plt\n",
    "import seaborn as sns\n",
    "from sklearn.model_selection import train_test_split\n",
    "from sklearn.linear_model import LinearRegression\n",
    "from sklearn.metrics import mean_squared_error, r2_score\n",
    "import statsmodels.api as sm\n",
    "import statsmodels.formula.api as smf\n",
    "from sklearn.preprocessing import StandardScaler"
   ]
  },
  {
   "cell_type": "code",
   "execution_count": 55,
   "id": "77763cb8-d40b-44b5-ad91-3458e6f1cc2e",
   "metadata": {},
   "outputs": [
    {
     "data": {
      "text/html": [
       "<div>\n",
       "<style scoped>\n",
       "    .dataframe tbody tr th:only-of-type {\n",
       "        vertical-align: middle;\n",
       "    }\n",
       "\n",
       "    .dataframe tbody tr th {\n",
       "        vertical-align: top;\n",
       "    }\n",
       "\n",
       "    .dataframe thead th {\n",
       "        text-align: right;\n",
       "    }\n",
       "</style>\n",
       "<table border=\"1\" class=\"dataframe\">\n",
       "  <thead>\n",
       "    <tr style=\"text-align: right;\">\n",
       "      <th></th>\n",
       "      <th>square_feet</th>\n",
       "      <th>num_bedrooms</th>\n",
       "      <th>num_bathrooms</th>\n",
       "      <th>num_floors</th>\n",
       "      <th>year_built</th>\n",
       "      <th>has_garden</th>\n",
       "      <th>has_pool</th>\n",
       "      <th>garage_size</th>\n",
       "      <th>location_score</th>\n",
       "      <th>distance_to_center</th>\n",
       "      <th>price</th>\n",
       "    </tr>\n",
       "  </thead>\n",
       "  <tbody>\n",
       "    <tr>\n",
       "      <th>0</th>\n",
       "      <td>143.635030</td>\n",
       "      <td>1</td>\n",
       "      <td>3</td>\n",
       "      <td>3</td>\n",
       "      <td>1967</td>\n",
       "      <td>1</td>\n",
       "      <td>1</td>\n",
       "      <td>48</td>\n",
       "      <td>8.297631</td>\n",
       "      <td>5.935734</td>\n",
       "      <td>602134.816747</td>\n",
       "    </tr>\n",
       "    <tr>\n",
       "      <th>1</th>\n",
       "      <td>287.678577</td>\n",
       "      <td>1</td>\n",
       "      <td>2</td>\n",
       "      <td>1</td>\n",
       "      <td>1949</td>\n",
       "      <td>0</td>\n",
       "      <td>1</td>\n",
       "      <td>37</td>\n",
       "      <td>6.061466</td>\n",
       "      <td>10.827392</td>\n",
       "      <td>591425.135386</td>\n",
       "    </tr>\n",
       "    <tr>\n",
       "      <th>2</th>\n",
       "      <td>232.998485</td>\n",
       "      <td>1</td>\n",
       "      <td>3</td>\n",
       "      <td>2</td>\n",
       "      <td>1923</td>\n",
       "      <td>1</td>\n",
       "      <td>0</td>\n",
       "      <td>14</td>\n",
       "      <td>2.911442</td>\n",
       "      <td>6.904599</td>\n",
       "      <td>464478.696880</td>\n",
       "    </tr>\n",
       "    <tr>\n",
       "      <th>3</th>\n",
       "      <td>199.664621</td>\n",
       "      <td>5</td>\n",
       "      <td>2</td>\n",
       "      <td>2</td>\n",
       "      <td>1918</td>\n",
       "      <td>0</td>\n",
       "      <td>0</td>\n",
       "      <td>17</td>\n",
       "      <td>2.070949</td>\n",
       "      <td>8.284019</td>\n",
       "      <td>583105.655996</td>\n",
       "    </tr>\n",
       "    <tr>\n",
       "      <th>4</th>\n",
       "      <td>89.004660</td>\n",
       "      <td>4</td>\n",
       "      <td>3</td>\n",
       "      <td>3</td>\n",
       "      <td>1999</td>\n",
       "      <td>1</td>\n",
       "      <td>0</td>\n",
       "      <td>34</td>\n",
       "      <td>1.523278</td>\n",
       "      <td>14.648277</td>\n",
       "      <td>619879.142523</td>\n",
       "    </tr>\n",
       "  </tbody>\n",
       "</table>\n",
       "</div>"
      ],
      "text/plain": [
       "   square_feet  num_bedrooms  num_bathrooms  num_floors  year_built  \\\n",
       "0   143.635030             1              3           3        1967   \n",
       "1   287.678577             1              2           1        1949   \n",
       "2   232.998485             1              3           2        1923   \n",
       "3   199.664621             5              2           2        1918   \n",
       "4    89.004660             4              3           3        1999   \n",
       "\n",
       "   has_garden  has_pool  garage_size  location_score  distance_to_center  \\\n",
       "0           1         1           48        8.297631            5.935734   \n",
       "1           0         1           37        6.061466           10.827392   \n",
       "2           1         0           14        2.911442            6.904599   \n",
       "3           0         0           17        2.070949            8.284019   \n",
       "4           1         0           34        1.523278           14.648277   \n",
       "\n",
       "           price  \n",
       "0  602134.816747  \n",
       "1  591425.135386  \n",
       "2  464478.696880  \n",
       "3  583105.655996  \n",
       "4  619879.142523  "
      ]
     },
     "execution_count": 55,
     "metadata": {},
     "output_type": "execute_result"
    }
   ],
   "source": [
    "df = pd.read_csv(r\"C:\\Users\\ruben\\OneDrive\\Desktop\\Linear Regression\\real_estate_dataset.csv\")\n",
    "df.columns = df.columns.str.lower()\n",
    "df.drop('id', axis=1, inplace=True)\n",
    "df.head()"
   ]
  },
  {
   "cell_type": "code",
   "execution_count": 56,
   "id": "64bd1a51-be95-48be-bfba-36192c4ef2c0",
   "metadata": {},
   "outputs": [
    {
     "data": {
      "text/plain": [
       "square_feet           0\n",
       "num_bedrooms          0\n",
       "num_bathrooms         0\n",
       "num_floors            0\n",
       "year_built            0\n",
       "has_garden            0\n",
       "has_pool              0\n",
       "garage_size           0\n",
       "location_score        0\n",
       "distance_to_center    0\n",
       "price                 0\n",
       "dtype: int64"
      ]
     },
     "execution_count": 56,
     "metadata": {},
     "output_type": "execute_result"
    }
   ],
   "source": [
    "for col in df.columns:\n",
    "    df[col] = df[col].fillna(df[col].mean())\n",
    "    \n",
    "df.isna().sum()"
   ]
  },
  {
   "cell_type": "code",
   "execution_count": 57,
   "id": "d48292ef-ff8f-4bb3-94cb-71adad1cd0c8",
   "metadata": {},
   "outputs": [
    {
     "data": {
      "text/plain": [
       "{'square_feet * num_bedrooms': 0.7969942958145663,\n",
       " 'square_feet * num_bathrooms': 0.4932194605767344,\n",
       " 'square_feet * num_floors': 0.49529977107884227,\n",
       " 'square_feet * year_built': 0.5781951656775672,\n",
       " 'square_feet * has_garden': 0.32801960925111684,\n",
       " 'square_feet * has_pool': 0.3292431289313659,\n",
       " 'square_feet * garage_size': 0.42881914067954435,\n",
       " 'square_feet * location_score': 0.3976033600574494,\n",
       " 'square_feet * distance_to_center': 0.30233503350097,\n",
       " 'num_bedrooms * num_bathrooms': 0.5352688618267694,\n",
       " 'num_bedrooms * num_floors': 0.521298307474861,\n",
       " 'num_bedrooms * year_built': 0.5799559184728605,\n",
       " 'num_bedrooms * has_garden': 0.34271830691412947,\n",
       " 'num_bedrooms * has_pool': 0.3732296027428429,\n",
       " 'num_bedrooms * garage_size': 0.4607898162609456,\n",
       " 'num_bedrooms * location_score': 0.4251987215473039,\n",
       " 'num_bedrooms * distance_to_center': 0.3682212531274956}"
      ]
     },
     "execution_count": 57,
     "metadata": {},
     "output_type": "execute_result"
    }
   ],
   "source": [
    "interactions = {}\n",
    "X = df.drop('price', axis=1)\n",
    "y = df['price']\n",
    "\n",
    "for (col1, col2) in combinations(X.columns, 2):\n",
    "    interaction = X[col1] * X[col2]\n",
    "    correlation = abs(pd.concat([interaction, y], axis=1).corr().iloc[0,1])\n",
    "    interactions[f\"{col1} * {col2}\"] = correlation\n",
    "\n",
    "filtered_interactions = {k: v for k, v in interactions.items() if v > 0.3}\n",
    "filtered_interactions"
   ]
  },
  {
   "cell_type": "code",
   "execution_count": 115,
   "id": "f1c992d6-f83b-4193-8850-b7a0d785d0e1",
   "metadata": {},
   "outputs": [
    {
     "name": "stdout",
     "output_type": "stream",
     "text": [
      "Mean Squared Error: 437730359.70827323\n",
      "Root Mean Squared Error: 20922.006588954922\n",
      "R-squared: 0.970899139169718\n"
     ]
    }
   ],
   "source": [
    "X_train, X_test, y_train, y_test = train_test_split(X, y, test_size=0.2, random_state=42)\n",
    "\n",
    "scaler = StandardScaler()\n",
    "\n",
    "X_train_scaled = scaler.fit_transform(X_train)\n",
    "X_test_scaled = scaler.transform(X_test)\n",
    "\n",
    "regressor = LinearRegression()\n",
    "regressor.fit(X_train_scaled, y_train)\n",
    "\n",
    "y_pred = regressor.predict(X_test_scaled)\n",
    "\n",
    "mse = mean_squared_error(y_test, y_pred)\n",
    "rmse = np.sqrt(mse)\n",
    "r2 = r2_score(y_test, y_pred)\n",
    "\n",
    "print(f\"Mean Squared Error: {mse}\")\n",
    "print(f\"Root Mean Squared Error: {rmse}\")\n",
    "print(f\"R-squared: {r2}\")"
   ]
  },
  {
   "cell_type": "code",
   "execution_count": 97,
   "id": "c593291b-9781-43d4-8a87-13c5f45d44a7",
   "metadata": {},
   "outputs": [
    {
     "data": {
      "text/html": [
       "<div>\n",
       "<style scoped>\n",
       "    .dataframe tbody tr th:only-of-type {\n",
       "        vertical-align: middle;\n",
       "    }\n",
       "\n",
       "    .dataframe tbody tr th {\n",
       "        vertical-align: top;\n",
       "    }\n",
       "\n",
       "    .dataframe thead th {\n",
       "        text-align: right;\n",
       "    }\n",
       "</style>\n",
       "<table border=\"1\" class=\"dataframe\">\n",
       "  <thead>\n",
       "    <tr style=\"text-align: right;\">\n",
       "      <th></th>\n",
       "      <th>Feature</th>\n",
       "      <th>Coefficient</th>\n",
       "      <th>VIF</th>\n",
       "    </tr>\n",
       "  </thead>\n",
       "  <tbody>\n",
       "    <tr>\n",
       "      <th>0</th>\n",
       "      <td>square_feet</td>\n",
       "      <td>75637.1413</td>\n",
       "      <td>1.0219</td>\n",
       "    </tr>\n",
       "    <tr>\n",
       "      <th>1</th>\n",
       "      <td>num_bedrooms</td>\n",
       "      <td>72935.3527</td>\n",
       "      <td>1.0126</td>\n",
       "    </tr>\n",
       "    <tr>\n",
       "      <th>2</th>\n",
       "      <td>num_bathrooms</td>\n",
       "      <td>24698.8191</td>\n",
       "      <td>1.0149</td>\n",
       "    </tr>\n",
       "    <tr>\n",
       "      <th>3</th>\n",
       "      <td>num_floors</td>\n",
       "      <td>15968.7284</td>\n",
       "      <td>1.0170</td>\n",
       "    </tr>\n",
       "    <tr>\n",
       "      <th>4</th>\n",
       "      <td>year_built</td>\n",
       "      <td>53876.7400</td>\n",
       "      <td>1.0107</td>\n",
       "    </tr>\n",
       "    <tr>\n",
       "      <th>5</th>\n",
       "      <td>has_garden</td>\n",
       "      <td>15150.2304</td>\n",
       "      <td>1.0134</td>\n",
       "    </tr>\n",
       "    <tr>\n",
       "      <th>6</th>\n",
       "      <td>has_pool</td>\n",
       "      <td>23119.2529</td>\n",
       "      <td>1.0370</td>\n",
       "    </tr>\n",
       "    <tr>\n",
       "      <th>7</th>\n",
       "      <td>garage_size</td>\n",
       "      <td>13068.9552</td>\n",
       "      <td>1.0204</td>\n",
       "    </tr>\n",
       "    <tr>\n",
       "      <th>8</th>\n",
       "      <td>location_score</td>\n",
       "      <td>13882.9336</td>\n",
       "      <td>1.0150</td>\n",
       "    </tr>\n",
       "    <tr>\n",
       "      <th>9</th>\n",
       "      <td>distance_to_center</td>\n",
       "      <td>-10560.2784</td>\n",
       "      <td>1.0396</td>\n",
       "    </tr>\n",
       "  </tbody>\n",
       "</table>\n",
       "</div>"
      ],
      "text/plain": [
       "              Feature  Coefficient    VIF\n",
       "0         square_feet   75637.1413 1.0219\n",
       "1        num_bedrooms   72935.3527 1.0126\n",
       "2       num_bathrooms   24698.8191 1.0149\n",
       "3          num_floors   15968.7284 1.0170\n",
       "4          year_built   53876.7400 1.0107\n",
       "5          has_garden   15150.2304 1.0134\n",
       "6            has_pool   23119.2529 1.0370\n",
       "7         garage_size   13068.9552 1.0204\n",
       "8      location_score   13882.9336 1.0150\n",
       "9  distance_to_center  -10560.2784 1.0396"
      ]
     },
     "execution_count": 97,
     "metadata": {},
     "output_type": "execute_result"
    }
   ],
   "source": [
    "pd.options.display.float_format = '{:.4f}'.format\n",
    "\n",
    "intercept_reg = regressor.intercept_\n",
    "coefficients_reg = regressor.coef_\n",
    "\n",
    "coefficients = pd.DataFrame({\n",
    "    \"Feature\": X.columns,\n",
    "    \"Coefficient\": coefficients_reg\n",
    "})\n",
    "\n",
    "X_with_const = add_constant(X)\n",
    "vif_values = [variance_inflation_factor(X_with_const.values, i + 1) for i in range(len(X.columns))]\n",
    "coefficients[\"VIF\"] = vif_values\n",
    "\n",
    "coefficients"
   ]
  },
  {
   "cell_type": "code",
   "execution_count": 112,
   "id": "d8af6fa3-a839-4399-bed3-f379a93489a3",
   "metadata": {},
   "outputs": [
    {
     "data": {
      "text/plain": [
       "array([ 75637.14134442,  72935.35270476,  24698.81905649,  15968.72841788,\n",
       "        53876.74000595,  15150.23043365,  23119.2528846 ,  13068.95517631,\n",
       "        13882.93358452, -10560.27843447])"
      ]
     },
     "execution_count": 112,
     "metadata": {},
     "output_type": "execute_result"
    }
   ],
   "source": [
    "coefficients.set_index(\"Feature\")[\"Coefficient\"].values"
   ]
  },
  {
   "cell_type": "code",
   "execution_count": 108,
   "id": "4185c44e-d46a-4438-812c-7674d50a6b4c",
   "metadata": {},
   "outputs": [
    {
     "name": "stdout",
     "output_type": "stream",
     "text": [
      "75637.1413 * 0.3882\n",
      "72935.3527 * 0.0034\n",
      "24698.8191 * -1.2134\n",
      "15968.7284 * 0.0218\n",
      "53876.7400 * -0.2620\n",
      "15150.2304 * 0.9464\n",
      "23119.2529 * -0.9802\n",
      "13068.9552 * -0.4586\n",
      "13882.9336 * -0.3742\n",
      "-10560.2784 * 0.0823\n",
      "\n",
      "Predicted Value: 553545.9867\n"
     ]
    }
   ],
   "source": [
    "record = X_test_scaled_df.iloc[21]\n",
    "predicted_value = intercept_reg + (record * coefficients.set_index(\"Feature\")[\"Coefficient\"]).sum()\n",
    "\n",
    "for coefficient, value in zip(coefficients.set_index(\"Feature\")[\"Coefficient\"], record):\n",
    "    print(f\"{coefficient:.4f} * {value:.4f}\")\n",
    "\n",
    "print(f\"\\nPredicted Value: {predicted_value:.4f}\")"
   ]
  },
  {
   "cell_type": "code",
   "execution_count": 103,
   "id": "f35c7d88-493d-40be-9220-77413ae78a2c",
   "metadata": {},
   "outputs": [
    {
     "name": "stdout",
     "output_type": "stream",
     "text": [
      "Predicted value: 553545.9867\n",
      "True value: 544610.9705\n"
     ]
    }
   ],
   "source": [
    "X_test_scaled_df = pd.DataFrame(X_test_scaled, columns=X.columns)\n",
    "X_test_scaled_df.index = X_test.index\n",
    "\n",
    "record = X_test_scaled_df.iloc[21]\n",
    "\n",
    "y_pred = regressor.predict(record.values.reshape(1, -1))\n",
    "\n",
    "true_index = record.name\n",
    "true_value = y_test.loc[true_index]\n",
    "\n",
    "print(f\"Predicted value: {y_pred[0]:.4f}\")\n",
    "print(f\"True value: {true_value:.4f}\")"
   ]
  },
  {
   "cell_type": "code",
   "execution_count": 82,
   "id": "91b623ca-94a0-4814-8f56-35b86518bb08",
   "metadata": {},
   "outputs": [
    {
     "name": "stdout",
     "output_type": "stream",
     "text": [
      "Regression Formula:\n",
      "y = 588050.03 + (75637.141344416) * square_feet + (72935.35270476106) * num_bedrooms + (24698.81905648944) * num_bathrooms + (15968.728417881044) * num_floors + (53876.74000595455) * year_built + (15150.230433650522) * has_garden + (23119.252884602673) * has_pool + (13068.955176312707) * garage_size + (13882.933584517003) * location_score + (-10560.2784344666) * distance_to_center\n"
     ]
    }
   ],
   "source": [
    "formula = f\"y = {intercept_reg:.2f}\"\n",
    "\n",
    "for feature, coef in zip(coefficients[\"Feature\"], coefficients[\"Coefficient\"]):\n",
    "    formula += f\" + ({coef}) * {feature}\"\n",
    "\n",
    "print(\"Regression Formula:\")\n",
    "print(formula)"
   ]
  },
  {
   "cell_type": "code",
   "execution_count": 131,
   "id": "3969f81b-6f81-4aa3-ad95-798a5fa6d7f2",
   "metadata": {},
   "outputs": [
    {
     "data": {
      "text/plain": [
       "Text(0.5, 1.0, 'Regression')"
      ]
     },
     "execution_count": 131,
     "metadata": {},
     "output_type": "execute_result"
    },
    {
     "data": {
      "image/png": "[encoded data removed]",
      "text/plain": [
       "<Figure size 640x480 with 1 Axes>"
      ]
     },
     "metadata": {},
     "output_type": "display_data"
    }
   ],
   "source": [
    "sns.regplot(x=y_test, y=y_pred, line_kws={'color': 'red'}, ci=None)\n",
    "plt.xlabel(\"Actual Price\")\n",
    "plt.ylabel(\"Predicted Price\")\n",
    "plt.title(\"Regression\")"
   ]
  },
  {
   "cell_type": "code",
   "execution_count": 127,
   "id": "c16a60fc-c788-44a0-93d1-1132020408ed",
   "metadata": {},
   "outputs": [
    {
     "data": {
      "text/plain": [
       "<matplotlib.lines.Line2D at 0x202c9aef740>"
      ]
     },
     "execution_count": 127,
     "metadata": {},
     "output_type": "execute_result"
    },
    {
     "data": {
      "image/png": "[encoded data removed]",
      "text/plain": [
       "<Figure size 640x480 with 1 Axes>"
      ]
     },
     "metadata": {},
     "output_type": "display_data"
    }
   ],
   "source": [
    "residuals = y_test - y_pred\n",
    "sns.scatterplot(x=y_test, y=residuals)\n",
    "plt.xlabel(\"Actual Price\")\n",
    "plt.ylabel(\"Residuals\")\n",
    "plt.title(\"Residuals plot\")\n",
    "plt.axhline(y=0, color='red', linestyle='--')"
   ]
  }
 ],
 "metadata": {
  "kernelspec": {
   "display_name": "Python 3 (ipykernel)",
   "language": "python",
   "name": "python3"
  },
  "language_info": {
   "codemirror_mode": {
    "name": "ipython",
    "version": 3
   },
   "file_extension": ".py",
   "mimetype": "text/x-python",
   "name": "python",
   "nbconvert_exporter": "python",
   "pygments_lexer": "ipython3",
   "version": "3.12.2"
  }
 },
 "nbformat": 4,
 "nbformat_minor": 5
}
